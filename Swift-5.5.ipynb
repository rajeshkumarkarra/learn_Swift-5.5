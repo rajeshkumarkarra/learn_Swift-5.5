{
 "cells": [
  {
   "cell_type": "code",
   "execution_count": 1,
   "id": "5fe200a8-aa4c-4446-a565-289cf6514851",
   "metadata": {},
   "outputs": [
    {
     "name": "stdout",
     "output_type": "stream",
     "text": [
      "Is it a spicy red pepper?\n"
     ]
    }
   ],
   "source": [
    "let vegetable = \"red pepper\"\n",
    "switch vegetable {\n",
    "case \"celery\":\n",
    "    print(\"Add some raisins and make ants on a log.\")\n",
    "case \"cucumber\", \"watercress\":\n",
    "    print(\"That would make a good tea sandwich.\")\n",
    "case let x where x.hasSuffix(\"pepper\"):\n",
    "    print(\"Is it a spicy \\(x)?\")\n",
    "default:\n",
    "    print(\"Everything tastes good in soup.\")\n",
    "}\n",
    "// Prints \"Is it a spicy red pepper?\""
   ]
  },
  {
   "cell_type": "code",
   "execution_count": 4,
   "id": "74f93061-af5c-44b5-ad5f-ff157433de67",
   "metadata": {},
   "outputs": [
    {
     "name": "stdout",
     "output_type": "stream",
     "text": [
      "Hello, Swift 5.1\n"
     ]
    }
   ],
   "source": [
    "#if swift(>=5.3)\n",
    "print(\"Hello, Swift 5.3\")\n",
    "\n",
    "#elseif swift(>=5.2)\n",
    "print(\"Hello, Swift 5.2\")\n",
    "\n",
    "#elseif swift(>=5.1)\n",
    "print(\"Hello, Swift 5.1\")\n",
    "\n",
    "#elseif swift(>=5.0)\n",
    "print(\"Hello, Swift 5.0\")\n",
    "\n",
    "#elseif swift(>=4.2)\n",
    "print(\"Hello, Swift 4.2\")\n",
    "\n",
    "#elseif swift(>=4.1)\n",
    "print(\"Hello, Swift 4.1\")\n",
    "\n",
    "#elseif swift(>=4.0)\n",
    "print(\"Hello, Swift 4.0\")\n",
    "\n",
    "#elseif swift(>=3.2)\n",
    "print(\"Hello, Swift 3.2\")\n",
    "\n",
    "#elseif swift(>=3.0)\n",
    "print(\"Hello, Swift 3.0\")\n",
    "\n",
    "#elseif swift(>=2.2)\n",
    "print(\"Hello, Swift 2.2\")\n",
    "\n",
    "#elseif swift(>=2.1)\n",
    "print(\"Hello, Swift 2.1\")\n",
    "\n",
    "#elseif swift(>=2.0)\n",
    "print(\"Hello, Swift 2.0\")\n",
    "\n",
    "#elseif swift(>=1.2)\n",
    "print(\"Hello, Swift 1.2\")\n",
    "\n",
    "#elseif swift(>=1.1)\n",
    "print(\"Hello, Swift 1.1\")\n",
    "\n",
    "#elseif swift(>=1.0)\n",
    "print(\"Hello, Swift 1.0\")\n",
    "\n",
    "#endif"
   ]
  },
  {
   "cell_type": "code",
   "execution_count": 6,
   "id": "4ddbf1a5-a283-4da3-9082-bc0ffd210107",
   "metadata": {},
   "outputs": [
    {
     "name": "stdout",
     "output_type": "stream",
     "text": [
      "Is it spicy red pepper?\n"
     ]
    }
   ],
   "source": [
    "let vegetable = \"red pepper\"\n",
    "switch vegetable {\n",
    "    case \"celery\":\n",
    "    print(\"Add some raisins and make ants on a log\")\n",
    "    \n",
    "    case \"cucumber\", \"watercress\":\n",
    "    print(\"that would make a good tea sandwich\")\n",
    "    \n",
    "    case let x where x.hasSuffix(\"pepper\"):\n",
    "    print(\"Is it spicy \\(x)?\")\n",
    "    \n",
    "    default:\n",
    "    print(\"Everything tastes good in soup\")\n",
    "}"
   ]
  },
  {
   "cell_type": "code",
   "execution_count": 7,
   "id": "12dc40de-0ec0-467d-bfd5-1e8e9edc31c4",
   "metadata": {},
   "outputs": [
    {
     "ename": "",
     "evalue": "",
     "execution_count": 7,
     "output_type": "error",
     "status": "error",
     "traceback": [
      "error: <Cell 7>:2:1: error: switch must be exhaustive\nswitch vegetable {\n^\n\n<Cell 7>:2:1: note: do you want to add a default clause?\nswitch vegetable {\n^\n\n"
     ]
    }
   ],
   "source": [
    "let vegetable = \"red pepper\"\n",
    "switch vegetable {\n",
    "    case \"celery\":\n",
    "    print(\"Add some raisins and make ants on a log\")\n",
    "    \n",
    "    case \"cucumber\", \"watercress\":\n",
    "    print(\"that would make a good tea sandwich\")\n",
    "    \n",
    "    case let x where x.hasSuffix(\"pepper\"):\n",
    "    print(\"Is it spicy \\(x)?\")\n",
    "    \n",
    "    \n",
    "}"
   ]
  },
  {
   "cell_type": "code",
   "execution_count": 11,
   "id": "45ba39e2-1c34-4233-a104-7532c8653fec",
   "metadata": {},
   "outputs": [
    {
     "name": "stdout",
     "output_type": "stream",
     "text": [
      "36\n"
     ]
    }
   ],
   "source": [
    "let interstingNumbers = [\n",
    "    //\"prime\": [-1,2,3,5,7,11,13],\n",
    "    \"prime\": [2,3,5,7,11,13],\n",
    "    \"Fibonacci\": [1,1,2,3,5,8],\n",
    "    \"Square\": [2,4,9,16,25,36],\n",
    "]\n",
    "\n",
    "var largest = 0\n",
    "for (_, numbers) in interstingNumbers {\n",
    "    for number in numbers {\n",
    "        //if number < largest { // prints the number which is smaller than 0\n",
    "        if number > largest {\n",
    "            largest = number\n",
    "        }\n",
    "    }\n",
    "}\n",
    "print(largest)"
   ]
  },
  {
   "cell_type": "code",
   "execution_count": 15,
   "id": "1619d35c-fbcf-4554-9e18-f191f71b291d",
   "metadata": {},
   "outputs": [
    {
     "name": "stdout",
     "output_type": "stream",
     "text": [
      "36\n"
     ]
    }
   ],
   "source": [
    "let interstingNumbers = [\n",
    "    //\"prime\": [-1,2,3,5,7,11,13],\n",
    "    \"prime\": [2,3,5,7,11,13],\n",
    "    \"Fibonacci\": [1,1,2,3,5,8],\n",
    "    \"Square\": [2,4,9,16,25,36],\n",
    "]\n",
    "\n",
    "var largest = 0\n",
    "// replace _ with number\n",
    "for (number, numbers) in interstingNumbers {\n",
    "    for number in numbers {\n",
    "        //if number < largest { // prints the number which is smaller than 0\n",
    "        if number > largest {\n",
    "            largest = number\n",
    "        }\n",
    "    }\n",
    "}\n",
    "print(largest)"
   ]
  },
  {
   "cell_type": "code",
   "execution_count": 16,
   "id": "88f4dd35-1904-4952-98fd-e766236b0941",
   "metadata": {},
   "outputs": [
    {
     "name": "stdout",
     "output_type": "stream",
     "text": [
      "128\n"
     ]
    }
   ],
   "source": [
    "var n = 2\n",
    "while n < 100 {\n",
    "    n *= 2\n",
    "}\n",
    "print(n)"
   ]
  },
  {
   "cell_type": "code",
   "execution_count": 17,
   "id": "1448a299-5e2e-4c35-a90c-90196ea3be89",
   "metadata": {},
   "outputs": [
    {
     "name": "stdout",
     "output_type": "stream",
     "text": [
      "128\n"
     ]
    }
   ],
   "source": [
    "var m = 2\n",
    "repeat {\n",
    "    m *= 2\n",
    "} while m < 100\n",
    "print(m)"
   ]
  },
  {
   "cell_type": "code",
   "execution_count": 18,
   "id": "264908b8-c2d2-49ae-a954-3ed427085d98",
   "metadata": {},
   "outputs": [
    {
     "name": "stdout",
     "output_type": "stream",
     "text": [
      "6\n"
     ]
    }
   ],
   "source": [
    "var total = 0\n",
    "for i in 0..<4 {\n",
    "    total += i\n",
    "}\n",
    "print(total)"
   ]
  },
  {
   "cell_type": "code",
   "execution_count": 19,
   "id": "c491e645-c1ca-4766-be60-c95ea96eeb69",
   "metadata": {},
   "outputs": [
    {
     "name": "stdout",
     "output_type": "stream",
     "text": [
      "45\n"
     ]
    }
   ],
   "source": [
    "// ..< make a range that omits its upper value\n",
    "var total = 0\n",
    "for i in 0..<10 {\n",
    "    total += i\n",
    "}\n",
    "print(total)"
   ]
  },
  {
   "cell_type": "code",
   "execution_count": 20,
   "id": "b8b6b0f4-f48b-4102-bb09-66ebbd36ba86",
   "metadata": {},
   "outputs": [
    {
     "name": "stdout",
     "output_type": "stream",
     "text": [
      "10\n"
     ]
    }
   ],
   "source": [
    "// ... to make a range that includes both values\n",
    "var total = 0\n",
    "for i in 0...4 {\n",
    "    total += i\n",
    "}\n",
    "print(total)"
   ]
  },
  {
   "cell_type": "markdown",
   "id": "9049d6f4-b7d3-4c55-bc6e-8bfb0448c38d",
   "metadata": {},
   "source": [
    "Functions and Closures"
   ]
  },
  {
   "cell_type": "code",
   "execution_count": 21,
   "id": "c6679bd6-daf2-4e7b-9524-948d2f2a4519",
   "metadata": {},
   "outputs": [
    {
     "data": {
      "text/plain": [
       "\"Hello Bob, today is Tuesday.\"\n"
      ]
     },
     "execution_count": 21,
     "metadata": {},
     "output_type": "execute_result"
    }
   ],
   "source": [
    "func greet(person: String, day: String) -> String {\n",
    "    return \"Hello \\(person), today is \\(day).\"\n",
    "}\n",
    "greet(person: \"Bob\", day: \"Tuesday\")"
   ]
  },
  {
   "cell_type": "code",
   "execution_count": 23,
   "id": "3831ccba-6932-4bdd-bd70-d96c7e397c39",
   "metadata": {},
   "outputs": [
    {
     "data": {
      "text/plain": [
       "\"Hello Bob, please come to my house for Lunch\"\n"
      ]
     },
     "execution_count": 23,
     "metadata": {},
     "output_type": "execute_result"
    }
   ],
   "source": [
    "// parameter (person/lunch) names as labels for their arguments\n",
    "func invitation(person: String, lunch: String) -> String {\n",
    "    return \"Hello \\(person), please come to my house for \\(lunch)\"\n",
    "}\n",
    "invitation(person: \"Bob\", lunch: \"Lunch\")"
   ]
  },
  {
   "cell_type": "code",
   "execution_count": 27,
   "id": "4b9a34d6-4bde-44a7-aee5-9a9fb2cd6dad",
   "metadata": {},
   "outputs": [
    {
     "data": {
      "text/plain": [
       "\"Hello John, today is Wednesday.\"\n"
      ]
     },
     "execution_count": 27,
     "metadata": {},
     "output_type": "execute_result"
    }
   ],
   "source": [
    "// customized parameters (_, on) as labels for their arguments\n",
    "func greet(_ person: String, on day: String) -> String{\n",
    "    return \"Hello \\(person), today is \\(day).\"\n",
    "}\n",
    "greet(\"John\", on:\"Wednesday\")"
   ]
  },
  {
   "cell_type": "code",
   "execution_count": 28,
   "id": "aea213c5-7270-4eff-b906-73ec86f47955",
   "metadata": {},
   "outputs": [
    {
     "data": {
      "text/plain": [
       "\"Hello John, today is Sunday\"\n"
      ]
     },
     "execution_count": 28,
     "metadata": {},
     "output_type": "execute_result"
    }
   ],
   "source": [
    "// customized parameters (_, _) as labels for their arguments\n",
    "func greet(_ person: String, _ day: String) -> String {\n",
    "    return \"Hello \\(person), today is \\(day)\"\n",
    "}\n",
    "greet(\"John\", \"Sunday\")"
   ]
  },
  {
   "cell_type": "code",
   "execution_count": 30,
   "id": "afbd8d0e-6202-4431-abf3-c5af85c3b116",
   "metadata": {},
   "outputs": [
    {
     "name": "stdout",
     "output_type": "stream",
     "text": [
      "120\n",
      "120\n"
     ]
    }
   ],
   "source": [
    "func calculateStatistics(scores: [Int]) -> (min: Int, max: Int, sum: Int) {\n",
    "    var min = scores[0]\n",
    "    var max = scores[0]\n",
    "    var sum = 0\n",
    "    \n",
    "    for score in scores {\n",
    "        if score > max {\n",
    "            max = score\n",
    "        } else if score < min {\n",
    "            min = score\n",
    "        }\n",
    "        sum += score\n",
    "    }\n",
    "    return (min, max, sum)\n",
    "}\n",
    "let statistics = calculateStatistics(scores: [5,3,100,3,9])\n",
    "print(statistics.sum)\n",
    "print(statistics.2)"
   ]
  },
  {
   "cell_type": "code",
   "execution_count": 39,
   "id": "553ba957-e7c5-4982-b8b1-978a4d868894",
   "metadata": {},
   "outputs": [
    {
     "name": "stdout",
     "output_type": "stream",
     "text": [
      "120\n",
      "3\n",
      "100\n",
      "120\n"
     ]
    }
   ],
   "source": [
    "func calculateStatistics(scores: [Int]) -> (min: Int, max: Int, sum: Int) {\n",
    "    var min = scores[0]\n",
    "    var max = scores[0]\n",
    "    var sum = 0\n",
    "    \n",
    "    for score in scores {\n",
    "        if score > max {\n",
    "            max = score\n",
    "        } else if score < min {\n",
    "            min = score\n",
    "        }\n",
    "        sum += score\n",
    "    }\n",
    "    return (min, max, sum)\n",
    "}\n",
    "let statistics = calculateStatistics(scores: [5,3,100,3,9])\n",
    "print(statistics.sum)\n",
    "print(statistics.min)\n",
    "print(statistics.max)\n",
    "print(statistics.2)"
   ]
  },
  {
   "cell_type": "code",
   "execution_count": 40,
   "id": "e6b1617e-9e50-4cde-bc27-a49588286da6",
   "metadata": {},
   "outputs": [
    {
     "data": {
      "text/plain": [
       "15\n"
      ]
     },
     "execution_count": 40,
     "metadata": {},
     "output_type": "execute_result"
    }
   ],
   "source": [
    "func returnFifteen() -> Int {\n",
    "    var y = 10\n",
    "    func add() {\n",
    "        y += 5\n",
    "    }\n",
    "    add()\n",
    "    return y\n",
    "}\n",
    "returnFifteen()"
   ]
  },
  {
   "cell_type": "code",
   "execution_count": 44,
   "id": "abd043e2-8386-4334-bf8d-cb3c7c838edb",
   "metadata": {},
   "outputs": [
    {
     "data": {
      "text/plain": [
       "8\n"
      ]
     },
     "execution_count": 44,
     "metadata": {},
     "output_type": "execute_result"
    }
   ],
   "source": [
    "func makeIncrementer() -> ((Int) -> Int) {\n",
    "    func addOne(number: Int) -> Int {\n",
    "        return 1 + number\n",
    "    }\n",
    "    return addOne\n",
    "}\n",
    "var increment = makeIncrementer()\n",
    "increment(7)"
   ]
  },
  {
   "cell_type": "code",
   "execution_count": 42,
   "id": "61fdaab1-6482-4a13-89fc-4c6beb560422",
   "metadata": {},
   "outputs": [
    {
     "data": {
      "text/plain": [
       "true\n"
      ]
     },
     "execution_count": 42,
     "metadata": {},
     "output_type": "execute_result"
    }
   ],
   "source": [
    "func hasAnyMatches(list: [Int], condition: (Int) -> Bool) ->Bool {\n",
    "    for item in list {\n",
    "        if condition(item) {\n",
    "            return true\n",
    "        }\n",
    "    }\n",
    "    return false\n",
    "}\n",
    "func lessThanTen(number: Int) -> Bool {\n",
    "    return number < 10\n",
    "}\n",
    "var numbers = [120,19,7,12]\n",
    "hasAnyMatches(list: numbers, condition: lessThanTen)"
   ]
  },
  {
   "cell_type": "code",
   "execution_count": null,
   "id": "ada5a64c-4abf-40e7-8130-b10a5a6d55ba",
   "metadata": {},
   "outputs": [],
   "source": []
  }
 ],
 "metadata": {
  "kernelspec": {
   "display_name": "Swift",
   "language": "swift",
   "name": "conda-env-swift-swift"
  },
  "language_info": {
   "file_extension": ".swift",
   "mimetype": "text/x-swift",
   "name": "swift",
   "version": ""
  }
 },
 "nbformat": 4,
 "nbformat_minor": 5
}
